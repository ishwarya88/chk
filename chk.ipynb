{
 "cells": [
  {
   "cell_type": "markdown",
   "id": "3d19b4e9-56cc-40b4-9f55-a26b86a83923",
   "metadata": {
    "tags": []
   },
   "source": [
    "sample"
   ]
  },
  {
   "cell_type": "code",
   "execution_count": 4,
   "id": "19b86c46-fbf7-40bd-be15-57f47900fdb0",
   "metadata": {},
   "outputs": [
    {
     "name": "stdout",
     "output_type": "stream",
     "text": [
      "Hello 1\n"
     ]
    }
   ],
   "source": [
    "print('Hello 1')"
   ]
  },
  {
   "cell_type": "code",
   "execution_count": null,
   "id": "caed1c74-c1a8-4204-9210-234d760ee6b2",
   "metadata": {},
   "outputs": [],
   "source": []
  }
 ],
 "metadata": {
  "kernelspec": {
   "display_name": "Python 3",
   "language": "python",
   "name": "python3"
  },
  "language_info": {
   "codemirror_mode": {
    "name": "ipython",
    "version": 3
   },
   "file_extension": ".py",
   "mimetype": "text/x-python",
   "name": "python",
   "nbconvert_exporter": "python",
   "pygments_lexer": "ipython3",
   "version": "3.8.8"
  }
 },
 "nbformat": 4,
 "nbformat_minor": 5
}
